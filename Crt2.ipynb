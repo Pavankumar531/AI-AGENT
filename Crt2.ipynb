{
  "nbformat": 4,
  "nbformat_minor": 0,
  "metadata": {
    "colab": {
      "private_outputs": true,
      "provenance": [],
      "authorship_tag": "ABX9TyOMxHOvhSazX8cnYEW60r8n",
      "include_colab_link": true
    },
    "kernelspec": {
      "name": "python3",
      "display_name": "Python 3"
    },
    "language_info": {
      "name": "python"
    }
  },
  "cells": [
    {
      "cell_type": "markdown",
      "metadata": {
        "id": "view-in-github",
        "colab_type": "text"
      },
      "source": [
        "<a href=\"https://colab.research.google.com/github/Pavankumar531/AI-AGENT/blob/main/Crt2.ipynb\" target=\"_parent\"><img src=\"https://colab.research.google.com/assets/colab-badge.svg\" alt=\"Open In Colab\"/></a>"
      ]
    },
    {
      "cell_type": "code",
      "execution_count": null,
      "metadata": {
        "id": "EX7Kv_BL8kHh"
      },
      "outputs": [],
      "source": [
        "import pickle"
      ]
    },
    {
      "cell_type": "code",
      "source": [
        "l=pickle.load(open('/content/iris.pkl','rb'))"
      ],
      "metadata": {
        "id": "qABBXziF9qlb"
      },
      "execution_count": null,
      "outputs": []
    },
    {
      "cell_type": "code",
      "source": [
        "a=l.predict([[1.5,1.7,1.8,2.0]])\n",
        "if a[0]==0:\n",
        "  print('Setosa')\n",
        "elif a[0]==1:\n",
        "  print('Versicolor')\n",
        "else:\n",
        "  print('Virginica')"
      ],
      "metadata": {
        "id": "5x_5KjYd-Z6S"
      },
      "execution_count": null,
      "outputs": []
    }
  ]
}