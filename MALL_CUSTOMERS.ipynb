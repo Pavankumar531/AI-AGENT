{
  "nbformat": 4,
  "nbformat_minor": 0,
  "metadata": {
    "colab": {
      "private_outputs": true,
      "provenance": [],
      "authorship_tag": "ABX9TyPk0vo2d6hDuIFkSYUSREdK",
      "include_colab_link": true
    },
    "kernelspec": {
      "name": "python3",
      "display_name": "Python 3"
    },
    "language_info": {
      "name": "python"
    }
  },
  "cells": [
    {
      "cell_type": "markdown",
      "metadata": {
        "id": "view-in-github",
        "colab_type": "text"
      },
      "source": [
        "<a href=\"https://colab.research.google.com/github/Pavankumar531/AI-AGENT/blob/main/MALL_CUSTOMERS.ipynb\" target=\"_parent\"><img src=\"https://colab.research.google.com/assets/colab-badge.svg\" alt=\"Open In Colab\"/></a>"
      ]
    },
    {
      "cell_type": "code",
      "execution_count": null,
      "metadata": {
        "id": "Tk-keuJ6f61O"
      },
      "outputs": [],
      "source": [
        "import pandas as pd\n",
        "dt = pd.read_csv('/content/Mall_Customers (1).csv')"
      ]
    },
    {
      "cell_type": "code",
      "source": [
        "dt .info()"
      ],
      "metadata": {
        "id": "bP36GK0YgtjH"
      },
      "execution_count": null,
      "outputs": []
    },
    {
      "cell_type": "code",
      "source": [
        "x=dt[\"Annual Income (k$)\"]\n",
        "y=dt[\"Spending Score (1-100)\"]"
      ],
      "metadata": {
        "id": "pFtrbtMzivrW"
      },
      "execution_count": null,
      "outputs": []
    },
    {
      "cell_type": "code",
      "source": [
        "x=dt.iloc[:,3:]\n",
        "x.head()"
      ],
      "metadata": {
        "id": "6BIy9mtvk3Uf"
      },
      "execution_count": null,
      "outputs": []
    },
    {
      "cell_type": "code",
      "source": [
        "from sklearn.cluster import KMeans"
      ],
      "metadata": {
        "id": "zMOvN07hlsJd"
      },
      "execution_count": null,
      "outputs": []
    },
    {
      "cell_type": "code",
      "source": [],
      "metadata": {
        "id": "KFi7ZUAOnV9N"
      },
      "execution_count": null,
      "outputs": []
    },
    {
      "cell_type": "code",
      "source": [
        "WCSS =[]\n",
        "for i in range(1,11):\n",
        "  kmeans = KMeans(n_clusters=i,init='k-means++',random_state=42)\n",
        "  kmeans.fit(x)\n",
        "  WCSS.append(kmeans.inertia_)"
      ],
      "metadata": {
        "id": "VkqnXbaMl7Em"
      },
      "execution_count": null,
      "outputs": []
    },
    {
      "cell_type": "code",
      "source": [
        "import matplotlib.pyplot as plt\n",
        "plt.plot(range(1,11),WCSS)\n",
        "plt.title('The Elbow Method')\n",
        "plt.xlabel('Number of clusters')\n",
        "plt.ylabel('WCSS')\n",
        "plt.show()"
      ],
      "metadata": {
        "id": "bxjRb0Nvmr4H"
      },
      "execution_count": null,
      "outputs": []
    },
    {
      "cell_type": "code",
      "source": [
        "kmeans=KMeans(n_clusters=5,init='k-means++',random_state=42)\n",
        "kmeans.fit(x)"
      ],
      "metadata": {
        "id": "72zg-MsWnbRm"
      },
      "execution_count": null,
      "outputs": []
    },
    {
      "cell_type": "code",
      "source": [
        "lables=kmeans.labels_\n",
        "dt['cluster'=labels]"
      ],
      "metadata": {
        "id": "ubyMAzksnv9W"
      },
      "execution_count": null,
      "outputs": []
    }
  ]
}