{
  "nbformat": 4,
  "nbformat_minor": 0,
  "metadata": {
    "colab": {
      "private_outputs": true,
      "provenance": [],
      "mount_file_id": "1UwfxV0cJkkU_jxvn5aEeA1aGpXc-pmaH",
      "authorship_tag": "ABX9TyN3CgNF+HY1hE0owTBw8G7f",
      "include_colab_link": true
    },
    "kernelspec": {
      "name": "python3",
      "display_name": "Python 3"
    },
    "language_info": {
      "name": "python"
    }
  },
  "cells": [
    {
      "cell_type": "markdown",
      "metadata": {
        "id": "view-in-github",
        "colab_type": "text"
      },
      "source": [
        "<a href=\"https://colab.research.google.com/github/Pavankumar531/AI-AGENT/blob/main/pawan(1).ipynb\" target=\"_parent\"><img src=\"https://colab.research.google.com/assets/colab-badge.svg\" alt=\"Open In Colab\"/></a>"
      ]
    },
    {
      "cell_type": "code",
      "execution_count": null,
      "metadata": {
        "id": "fsLi6OOl28XK"
      },
      "outputs": [],
      "source": [
        "from keras.models import Sequential\n",
        "from keras.layers import Dense,Conv2D,MaxPooling2D,Flatten"
      ]
    },
    {
      "cell_type": "code",
      "source": [
        "model = Sequential()"
      ],
      "metadata": {
        "id": "F7yJl8NQ7WMz"
      },
      "execution_count": null,
      "outputs": []
    },
    {
      "cell_type": "code",
      "source": [
        "model.add(Conv2D(64,(3,3),activation='relu',input_shape=(64,64,3)))\n",
        "model.add(MaxPooling2D(pool_size=(2,2)))\n",
        "model.add(Flatten())\n",
        "model.add(Dense(128,activation = 'relu'))\n",
        "model.add(Dense(1,activation = 'sigmoid'))"
      ],
      "metadata": {
        "id": "wveIOPHe7cPW"
      },
      "execution_count": null,
      "outputs": []
    },
    {
      "cell_type": "code",
      "source": [
        "\n",
        "from tensorflow.keras.preprocessing.image import ImageDataGenerator\n",
        "Trace_datagen = ImageDataGenerator(rescale=1./255,\n",
        "                                   shear_range=0.2,\n",
        "                                   zoom_range=0.2,\n",
        "                                   rotation_range=0.2,\n",
        "                                   width_shift_range=0.2,\n",
        "                                   height_shift_range=0.2,\n",
        "                                   fill_mode='nearest',\n",
        "                                   vertical_flip=True,\n",
        "                                   horizontal_flip=True)\n",
        "test_datagen = ImageDataGenerator(rescale=1./255)"
      ],
      "metadata": {
        "id": "O2CRqMAvFL-q"
      },
      "execution_count": null,
      "outputs": []
    },
    {
      "cell_type": "code",
      "source": [
        "test_path='/content/drive/MyDrive/pkpkpkpkpk/test'\n",
        "train_path='/content/drive/MyDrive/pkpkpkpkpk/train'\n",
        "train_generator = Trace_datagen.flow_from_directory(train_path,\n",
        "                                                    target_size=(64,64),\n",
        "                                                    batch_size=8,\n",
        "                                                    class_mode='binary')\n",
        "test_generator = test_datagen.flow_from_directory(test_path,\n",
        "                                                  target_size=(64,64),\n",
        "                                                  batch_size=8,\n",
        "                                                  class_mode='binary')"
      ],
      "metadata": {
        "id": "W8841esFL6U-"
      },
      "execution_count": null,
      "outputs": []
    },
    {
      "cell_type": "code",
      "source": [
        " train_generator.class_indices"
      ],
      "metadata": {
        "id": "o9gv4iWDMfWn"
      },
      "execution_count": null,
      "outputs": []
    },
    {
      "cell_type": "code",
      "source": [
        "model.compile(optimizer='adam',loss='binary_crossentropy',metrics=['accuracy'])"
      ],
      "metadata": {
        "id": "ToMQ-1HsPUMU"
      },
      "execution_count": null,
      "outputs": []
    },
    {
      "cell_type": "code",
      "source": [
        "model.fit(train_generator,epochs=100,validation_data=test_generator)"
      ],
      "metadata": {
        "id": "7Frtd75LPymQ"
      },
      "execution_count": null,
      "outputs": []
    },
    {
      "cell_type": "code",
      "source": [
        "model.save('pspk-pawan-classifier.h5')"
      ],
      "metadata": {
        "id": "T4kKtk0bQvlL"
      },
      "execution_count": null,
      "outputs": []
    },
    {
      "cell_type": "code",
      "source": [],
      "metadata": {
        "id": "9Ytt9U8iY3cz"
      },
      "execution_count": null,
      "outputs": []
    }
  ]
}