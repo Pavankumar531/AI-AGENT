{
  "nbformat": 4,
  "nbformat_minor": 0,
  "metadata": {
    "colab": {
      "private_outputs": true,
      "provenance": [],
      "authorship_tag": "ABX9TyO/Vpyxameq20Gpokvw/u7Q",
      "include_colab_link": true
    },
    "kernelspec": {
      "name": "python3",
      "display_name": "Python 3"
    },
    "language_info": {
      "name": "python"
    }
  },
  "cells": [
    {
      "cell_type": "markdown",
      "metadata": {
        "id": "view-in-github",
        "colab_type": "text"
      },
      "source": [
        "<a href=\"https://colab.research.google.com/github/Pavankumar531/AI-AGENT/blob/main/task.ipynb\" target=\"_parent\"><img src=\"https://colab.research.google.com/assets/colab-badge.svg\" alt=\"Open In Colab\"/></a>"
      ]
    },
    {
      "cell_type": "code",
      "execution_count": null,
      "metadata": {
        "id": "nJ5aVpNKPIC3"
      },
      "outputs": [],
      "source": [
        "!pip install SpeechRecognition pydub"
      ]
    },
    {
      "cell_type": "code",
      "source": [
        "from pydub import AudioSegment\n",
        "mp3_file='/content/audio.mp3'\n",
        "wav_file='/content/audio.wav'\n",
        "audio=AudioSegment.from_mp3(mp3_file)\n",
        "audio.export(wav_file,format='wav')"
      ],
      "metadata": {
        "id": "oY8IfR63PV9M"
      },
      "execution_count": null,
      "outputs": []
    },
    {
      "cell_type": "code",
      "source": [
        "!pip install pocketsphinx"
      ],
      "metadata": {
        "id": "QHM42g8hPlN0"
      },
      "execution_count": null,
      "outputs": []
    },
    {
      "cell_type": "code",
      "source": [
        "import speech_recognition as sr\n",
        "r=sr.Recognizer()\n",
        "with sr.AudioFile('/content/audio.wav') as source:\n",
        "  audio_data=r.record(source)\n",
        "  text=r.recognize_sphinx(audio_data)\n",
        "  print(text)"
      ],
      "metadata": {
        "id": "NGVlPd_eP0YD"
      },
      "execution_count": null,
      "outputs": []
    },
    {
      "cell_type": "code",
      "source": [
        "! pip install transformers"
      ],
      "metadata": {
        "id": "mTdcW5LXRzIv"
      },
      "execution_count": null,
      "outputs": []
    },
    {
      "cell_type": "code",
      "source": [
        "from transformers import pipeline"
      ],
      "metadata": {
        "id": "E5FVTLWnR1y4"
      },
      "execution_count": null,
      "outputs": []
    },
    {
      "cell_type": "code",
      "source": [
        "a=pipeline('summarization')"
      ],
      "metadata": {
        "id": "wv70r5evR5Ii"
      },
      "execution_count": null,
      "outputs": []
    },
    {
      "cell_type": "code",
      "source": [
        "t = text"
      ],
      "metadata": {
        "id": "Cd6JNMjPSNg-"
      },
      "execution_count": null,
      "outputs": []
    },
    {
      "cell_type": "code",
      "source": [
        "result=a(t)\n",
        "sum = result[0].get('summary_text')\n",
        "sum"
      ],
      "metadata": {
        "id": "WokT1OwoSO_6"
      },
      "execution_count": null,
      "outputs": []
    },
    {
      "cell_type": "code",
      "source": [
        "qa=pipeline('question-answering')"
      ],
      "metadata": {
        "id": "0-TRZ1YBSRYC"
      },
      "execution_count": null,
      "outputs": []
    },
    {
      "cell_type": "code",
      "source": [
        "q=input(\"enter the question:\")"
      ],
      "metadata": {
        "id": "VMpfUv4xSaUl"
      },
      "execution_count": null,
      "outputs": []
    },
    {
      "cell_type": "code",
      "source": [
        "result=qa({'question':q,'context':sum})\n",
        "(result)"
      ],
      "metadata": {
        "id": "PFUQIH4NSddw"
      },
      "execution_count": null,
      "outputs": []
    },
    {
      "cell_type": "code",
      "source": [
        "a=pipeline('sentiment-analysis')"
      ],
      "metadata": {
        "id": "Fl--vZgZS5Av"
      },
      "execution_count": null,
      "outputs": []
    },
    {
      "cell_type": "code",
      "source": [
        "print(a(sum)[0].get('label'))"
      ],
      "metadata": {
        "id": "DfdyX2YTTBbt"
      },
      "execution_count": null,
      "outputs": []
    },
    {
      "cell_type": "code",
      "source": [
        "!pip install googletrans==4.0.0-rc1"
      ],
      "metadata": {
        "id": "lqxY_SltTF-5"
      },
      "execution_count": null,
      "outputs": []
    },
    {
      "cell_type": "code",
      "source": [
        "from googletrans import Translator\n",
        "t= Translator()\n",
        "text=input(\"enter a text:\")\n",
        "translated=t.translate(text,src='en',dest='te')\n",
        "('translated.text:',translated.text)"
      ],
      "metadata": {
        "id": "X7TFXb-DTJEN"
      },
      "execution_count": null,
      "outputs": []
    },
    {
      "cell_type": "code",
      "source": [
        "import smtplib\n",
        "from email.mime.text import MIMEText\n",
        "from email.mime.multipart import MIMEMultipart\n",
        "\n",
        "# Email sender and receiver information\n",
        "sender_email = \"pawankumargpk425@gmail.com\"  # Replace with your email\n",
        "receiver_email = \"231fa04a01@gmail.com\"  # Replace with recipient's email\n",
        "password = \"vure oxwe euts lvbw\"  # Use an app-specific password or your actual password\n",
        "\n",
        "# SMTP server and port (for Gmail)\n",
        "smtp_server = \"smtp.gmail.com\"\n",
        "smtp_port = 587\n",
        "\n",
        "# Compose the email\n",
        "subject = \"Meeting summary\"\n",
        "body = \"Dear Team,\\n\" + translated.text + \"\\n\\nBest Regards,\\npavan\"\n",
        "\n",
        "# Create the MIMEText message\n",
        "message = MIMEMultipart()\n",
        "message[\"From\"] = sender_email\n",
        "message[\"To\"] = receiver_email\n",
        "message[\"Subject\"] = subject\n",
        "message.attach(MIMEText(body, \"plain\"))\n",
        "\n",
        "# Send the email\n",
        "try:\n",
        "    # Establish a connection to the SMTP server\n",
        "    server = smtplib.SMTP(smtp_server, smtp_port)\n",
        "    server.starttls()  # Secure the connection\n",
        "    server.login(sender_email, password)  # Log in to the email account\n",
        "\n",
        "    # Send the email\n",
        "    server.sendmail(sender_email, receiver_email, message.as_string())\n",
        "\n",
        "    print(\"Email sent successfully!\")\n",
        "\n",
        "except Exception as e:\n",
        "    print(f\"Error: {e}\")\n",
        "\n",
        "finally:\n",
        "    server.quit()  # Close the connection\n"
      ],
      "metadata": {
        "id": "3SkFxEezThJE"
      },
      "execution_count": null,
      "outputs": []
    },
    {
      "cell_type": "code",
      "source": [],
      "metadata": {
        "id": "HJM0Mqk1Y1S0"
      },
      "execution_count": null,
      "outputs": []
    }
  ]
}